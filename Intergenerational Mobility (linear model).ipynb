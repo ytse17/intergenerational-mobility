{
 "cells": [
  {
   "cell_type": "code",
   "execution_count": 4,
   "metadata": {
    "collapsed": true
   },
   "outputs": [],
   "source": [
    "import numpy as np\n",
    "import pandas as pd\n",
    "import random\n",
    "from matplotlib import pyplot as plt \n",
    "import seaborn as sns"
   ]
  },
  {
   "cell_type": "code",
   "execution_count": 5,
   "metadata": {
    "collapsed": true
   },
   "outputs": [],
   "source": [
    "#setup\n",
    "\n",
    "v = 49\n",
    "gamma = 1.5\n",
    "lamda = 2\n",
    "omega = 1 \n",
    "\n",
    "n = 1000"
   ]
  },
  {
   "cell_type": "code",
   "execution_count": 6,
   "metadata": {},
   "outputs": [],
   "source": [
    "def linearmodel(q):\n",
    "    \n",
    "    num_simulations = 1000\n",
    "\n",
    "    p_c_s = []\n",
    "    p_c_rd = []\n",
    "    p_equals_c_s = []\n",
    "    p_equals_c_rd = []\n",
    "\n",
    "\n",
    "    for sim in np.arange(num_simulations): \n",
    "\n",
    "        # step 1 & 2\n",
    "        u_1 = []\n",
    "        u_2 = []\n",
    "\n",
    "        for i in np.arange(n):\n",
    "            u_1.append(random.randrange(0, 10000, 1))\n",
    "            u_2.append(random.randrange(0, 10000, 1))\n",
    "\n",
    "        d = {'u_1': u_1, 'u_2': u_2}\n",
    "        df = pd.DataFrame(data=d)\n",
    "\n",
    "        df[\"p\"] = df[\"u_1\"].rank(ascending=False)\n",
    "        df[\"help\"] = df[\"u_2\"].rank(ascending=False)\n",
    "        df[\"a\"] = q*df['p'] + (1-q)*df['help']\n",
    "        df[\"c_0\"] = df[\"a\"].rank(ascending=True)\n",
    "\n",
    "        #step 3\n",
    "        e_s = v**(1/gamma)\n",
    "        e_1 = ((1+omega)*v)**(1/gamma)\n",
    "        e_2 = ((1 + (omega * lamda)) * v)**(1/gamma)\n",
    "\n",
    "        df['I'] = (df['c_0'] >= df['p']).astype(int)\n",
    "\n",
    "        #step 4\n",
    "        df['u_s'] = df['c_0'] - e_s\n",
    "        df['c_s'] = df['u_s'].rank(ascending=True)\n",
    "\n",
    "        conditions = [\n",
    "            (df['c_0'] - e_2) > df['p'],\n",
    "            (df['c_0'] - e_1) <= df['p'],\n",
    "            ((df['c_0'] - e_2) < df['p']) & ((df['c_0'] - e_1) > df['p'])\n",
    "        ]\n",
    "\n",
    "        choices = [df['c_0'] - e_2, df['c_0'] - e_1, df['p']]\n",
    "\n",
    "        df['u_rd'] = np.select(conditions, choices)\n",
    "        df['c_rd'] = df['u_rd'].rank(ascending=True)\n",
    "\n",
    "        #step 5\n",
    "        p_c_s.append(df['p'].corr(df['c_s']))\n",
    "        p_c_rd.append(df['p'].corr(df['c_rd']))\n",
    "\n",
    "        p_equals_c_s.append(sum(df['p'] == df['c_s']))\n",
    "        p_equals_c_rd.append(sum(df['p'] == df['c_rd']))\n",
    "        \n",
    "    plt.hist(p_c_s, bins=100, alpha=0.6, lw=1, label=\"p_c_s\")\n",
    "    plt.hist(p_c_rd, bins=100, alpha=0.6, lw=1, label=\"p_c_rd\")\n",
    "    plt.legend()\n",
    "    plt.show()\n",
    "    \n",
    "    return df['c_0'].corr(df['p'])"
   ]
  },
  {
   "cell_type": "code",
   "execution_count": null,
   "metadata": {},
   "outputs": [
    {
     "data": {
      "image/png": "[encoded data removed]",
      "text/plain": [
       "<matplotlib.figure.Figure at 0x1100cca20>"
      ]
     },
     "metadata": {},
     "output_type": "display_data"
    },
    {
     "data": {
      "text/plain": [
       "0.27176155540451868"
      ]
     },
     "execution_count": 7,
     "metadata": {},
     "output_type": "execute_result"
    }
   ],
   "source": [
    "# q = 0.25\n",
    "linearmodel(0.25)"
   ]
  },
  {
   "cell_type": "code",
   "execution_count": null,
   "metadata": {},
   "outputs": [],
   "source": [
    "# q = 0.5\n",
    "linearmodel(0.5)"
   ]
  },
  {
   "cell_type": "code",
   "execution_count": null,
   "metadata": {},
   "outputs": [],
   "source": [
    "# q = 0.75\n",
    "linearmodel(0.75)"
   ]
  },
  {
   "cell_type": "markdown",
   "metadata": {},
   "source": [
    "## Percentile Comparison"
   ]
  },
  {
   "cell_type": "code",
   "execution_count": 65,
   "metadata": {
    "collapsed": true
   },
   "outputs": [],
   "source": [
    "bottom = 0.5\n",
    "top = 0.25"
   ]
  },
  {
   "cell_type": "code",
   "execution_count": 66,
   "metadata": {
    "collapsed": true
   },
   "outputs": [],
   "source": [
    "df['p_percentile'] = (df['p'].rank(pct = True))\n",
    "df['c_percentile'] = (df['c_rd'].rank(pct = True))\n",
    "\n",
    "percent_upwards = len(df.loc[(df['p_percentile'] > bottom) & (df['c_percentile'] <= top)]) / len(df) * 100 \n",
    "percent_downwards = len(df.loc[(df['p_percentile'] <= top) & (df['c_percentile'] > bottom)]) / len(df) * 100"
   ]
  },
  {
   "cell_type": "code",
   "execution_count": 67,
   "metadata": {},
   "outputs": [
    {
     "data": {
      "text/plain": [
       "(9.8, 11.4)"
      ]
     },
     "execution_count": 67,
     "metadata": {},
     "output_type": "execute_result"
    }
   ],
   "source": [
    "percent_upwards, percent_downwards"
   ]
  },
  {
   "cell_type": "code",
   "execution_count": null,
   "metadata": {
    "collapsed": true
   },
   "outputs": [],
   "source": []
  }
 ],
 "metadata": {
  "kernelspec": {
   "display_name": "Python 3",
   "language": "python",
   "name": "python3"
  },
  "language_info": {
   "codemirror_mode": {
    "name": "ipython",
    "version": 3
   },
   "file_extension": ".py",
   "mimetype": "text/x-python",
   "name": "python",
   "nbconvert_exporter": "python",
   "pygments_lexer": "ipython3",
   "version": "3.6.1"
  }
 },
 "nbformat": 4,
 "nbformat_minor": 2
}
